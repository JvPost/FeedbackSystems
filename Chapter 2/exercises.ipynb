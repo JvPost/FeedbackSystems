{
 "cells": [
  {
   "cell_type": "markdown",
   "id": "39fdfbb5",
   "metadata": {},
   "source": [
    "# 2.1"
   ]
  },
  {
   "cell_type": "markdown",
   "id": "9e790588",
   "metadata": {},
   "source": [
    "$$\n",
    "x = [x_1, x_2, x_3, \\dots, x_n]^T = [y, dy/dt, dy^2/dt^2, \\dots, dy^{n-1}/dt^{n-1}]^T\n",
    "$$\n",
    "and\n",
    "$$\n",
    "\\begin{align}\n",
    "y &= [1, 0, 0, 0]x \\\\\n",
    "&= Cx\n",
    "\\end{align}\n",
    "$$\n",
    "We define $d^ny /dt^n$ as $y^{(n)}$ and we rearage 2.7:\n",
    "\n",
    "$$\n",
    "y^{(n)} = -a_1 y^{(n-1)} + \\dots - a_n y + u,\n",
    "$$\n",
    "\n",
    "$x_n = y^{n-1}$ so $\\dot x_n = y^{n}$\n",
    "we then get \n",
    "$$\n",
    "\\begin{align}\n",
    "\\dot x_n &= -a_1 y^{(n-1)} + \\dots - a_n y + u \\\\\n",
    "&= -a_1 x_n - a_2 x_{n-1} + \\dots - a_n x_1 + u \n",
    "\\end{align}\n",
    "$$\n",
    "\n",
    "this then gives us\n",
    "\n",
    "$\\dot{x} = A x + B u,$\n",
    "\n",
    "where\n",
    "\n",
    "$\\frac{d}{dt} \\begin{bmatrix} x_1 \\\\ x_2 \\\\ x_3 \\\\ \\vdots \\\\ x_n \\end{bmatrix} = \\begin{bmatrix} 0 & 1 & 0 & \\cdots & 0 \\\\ 0 & 0 & 1 & \\cdots & 0 \\\\ 0 & 0 & 0 & \\cdots & 0 \\\\ \\vdots & \\vdots & \\vdots & \\ddots & \\vdots \\\\ -a_n & -a_{n-1} & -a_{n-2} & \\cdots & -a_1 \\end{bmatrix} \\begin{bmatrix} x_1 \\\\ x_2 \\\\ x_3 \\\\ \\vdots \\\\ x_n \\end{bmatrix} + \\begin{bmatrix} 0 \\\\ 0 \\\\ 0 \\\\ \\vdots \\\\ 1 \\end{bmatrix} u$\n",
    "\n",
    "which gives\n",
    "\n",
    "$A = \\begin{bmatrix}\n",
    "0 & 1 & 0 & \\cdots & 0 \\\\\n",
    "0 & 0 & 1 & \\cdots & 0 \\\\\n",
    "\\vdots & \\vdots & \\vdots & \\ddots & \\vdots \\\\\n",
    "0 & 0 & 0 & \\cdots & 1 \\\\\n",
    "-a_n & -a_{n-1} & -a_{n-2} & \\cdots & -a_1\n",
    "\\end{bmatrix} ,\\quad$\n",
    "$\n",
    "B = \\begin{bmatrix}\n",
    "0 \\\\\n",
    "0 \\\\\n",
    "\\vdots \\\\\n",
    "0 \\\\\n",
    "1\n",
    "\\end{bmatrix}$."
   ]
  },
  {
   "cell_type": "markdown",
   "id": "a4d9ef86",
   "metadata": {},
   "source": [
    "2.2 (Inverted pendulum) Use the equations of motion for a balance system to derive a dynamic model for the inverted pendulum described in Example 2.2 and verify that for small θ the dynamics are approximated by equation (2.10)."
   ]
  },
  {
   "cell_type": "markdown",
   "id": "53ee3d16",
   "metadata": {},
   "source": [
    "$$\\ddot \\theta = \\frac{mgl}{J_t}\\sin\\theta - \\frac{\\gamma}{J_t} \\dot\\theta + \\frac{l}{J_t}\\cos\\theta u$$\n",
    "with $ J_t = J+ml^2$ and $y=\\theta$\n"
   ]
  },
  {
   "cell_type": "markdown",
   "id": "94b2bd45",
   "metadata": {},
   "source": []
  },
  {
   "cell_type": "markdown",
   "id": "defa1bfa",
   "metadata": {},
   "source": [
    "# 2.2 Inverted pendulum\n",
    "\n",
    "So we have to find $\\ddot \\theta$\n",
    "\n",
    "force: $F = ma$ and $a = g$ in this case, so $F = gm$.  \n",
    "Torque:  $\\tau = F_\\perp l = mg\\sin(\\theta)l = mgl\\sin\\theta$  "
   ]
  },
  {
   "cell_type": "markdown",
   "id": "2f61b447",
   "metadata": {},
   "source": []
  }
 ],
 "metadata": {
  "kernelspec": {
   "display_name": "base",
   "language": "python",
   "name": "python3"
  },
  "language_info": {
   "name": "python",
   "version": "3.11.5"
  }
 },
 "nbformat": 4,
 "nbformat_minor": 5
}
